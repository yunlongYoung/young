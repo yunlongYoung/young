{
 "cells": [
  {
   "cell_type": "code",
   "execution_count": 1,
   "metadata": {},
   "outputs": [],
   "source": [
    "# default_exp strategy"
   ]
  },
  {
   "cell_type": "markdown",
   "metadata": {
    "tags": []
   },
   "source": [
    "# strategy\n",
    "\n",
    "> A backtesting strategy."
   ]
  },
  {
   "cell_type": "code",
   "execution_count": 2,
   "metadata": {},
   "outputs": [],
   "source": [
    "#hide\n",
    "from nbdev.showdoc import *"
   ]
  },
  {
   "cell_type": "code",
   "execution_count": 3,
   "metadata": {},
   "outputs": [],
   "source": [
    "#export\n",
    "# import modin.pandas as pd\n",
    "import pandas as pd\n",
    "import numpy as np\n",
    "def isbday(date):\n",
    "    return bool(len(pd.bdate_range(date, date)))"
   ]
  },
  {
   "cell_type": "raw",
   "metadata": {
    "jupyter": {
     "source_hidden": true
    },
    "tags": []
   },
   "source": [
    "数据集为df，主要是验证策略的收益，以及绘图、统计\n",
    "所谓策略，包括股票买卖部分，选股、股数、买入时机（包括集合竞价买卖、盘中随意买卖、快收盘时买卖、紧急买卖）\n",
    "         股数策略为到达8股前，一只股只买一手，到达8股后，轮流分配。或者买市值倒数第5的开始         \n",
    "所谓收益，是指定开始日期和结束日期后，按照选择的策略，经过股票的买入和轮换，到达结束日期时卖出的收益。\n",
    "就使用最简单的曲线图即可，将来有条件再添加沪深300的benchmark\n",
    "统计，暂时只统计收益率和年化收益率即可\n",
    "最主要是实现多个维度的策略同时运行，以及策略的范围验证比较\n",
    "\n",
    "从策略可以看出，一个策略可能包含1到多只股票的买入卖出，其中每只股票的参数是相对独立的。\n",
    "每只股票都可能包括买入时间、代码、数量、卖出时间。\n",
    "这3个维度是一个数据。\n",
    "\n",
    "而策略是一个数组，其中每一项都是一个四元的数组（即元策略或单股票策略）\n",
    "其中每一项的时间和数量都可能在迭代中变化，也就是要有实现范围验证的基础  \n",
    "因为策略的数据结构和df是一样的，那么只需要使用pd的dataframe来作为数据结构，再增加一些独特的方法就行了。\n",
    "或者把买入和卖出分为两个df，则每一个df都是时间index，股票代码、数量、买入或卖出\n",
    "\n",
    "绝对数据结构的主要是两点，性能和扩展性\n",
    "那么从性能和扩展性来看，都是把买卖分开比较好，因为可能买入的时候还不知道什么时候卖出\n",
    "而且希望数据是动态结构的，比如当前context的日期是2005-01-12-09:30，那么此时在数据结构中增加一行2005-01-12-10:30买入的数据，那么会自动执行此策略。\n",
    "(如果这么做可能开销比较大，而且暂时自己下载的数据也不支持，暂时只支持开盘和收盘买卖即可)\n",
    "股票的买入卖出就只是对当前context日期之后的数据结构进行增减即可。\n",
    "\n",
    "当前context的状态，可能包括现金、每种股票的股数、当前日期和时间等（目前只考虑日期）。\n",
    "\n",
    "\n",
    "现在只需要根据一只股票一手一买一卖的数据算出收益和年化收益率（还是从05年3月到20年12月）。"
   ]
  },
  {
   "cell_type": "code",
   "execution_count": 4,
   "metadata": {
    "jupyter": {
     "source_hidden": true
    },
    "tags": []
   },
   "outputs": [],
   "source": [
    "#export\n",
    "class Strategy:\n",
    "    def __init__(df=None, time=None, code=None, number=None):\n",
    "        #应该具有包容性，可以传入数组，也可以传入df，也可以什么都不传\n",
    "        if df:\n",
    "            self.df=df\n",
    "            self.time=df.index\n",
    "            self.code=df['code']\n",
    "            self.number=df['number']\n",
    "            self.is_buy=df['is_buy']\n",
    "        elif time and code and number and is_buy:\n",
    "            self.code=pd.Series(code, name='code')\n",
    "            self.number=pd.Series(number, name='number') \n",
    "            self.is_buy=pd.Series(is_buy, name='is_buy') \n",
    "            self.df = pd.concat([self.code, self.number, self.is_buy])\n",
    "            self.df.index=pd.DatetimeIndex(time, name='time')\n",
    "        else: # 什么数据都没有\n",
    "            #TODO 创建一个空的有标签的df\n",
    "            self.df=pd.Dataframe()\n",
    "            self.time=df.index\n",
    "            self.code=df['code']\n",
    "            self.number=df['number']\n",
    "            self.is_buy=df['is_buy']\n",
    "            self.df.index=pd.DatetimeIndex(time, name='time')\n",
    "    def beg(self):\n",
    "        pass"
   ]
  },
  {
   "cell_type": "code",
   "execution_count": 5,
   "metadata": {
    "tags": []
   },
   "outputs": [
    {
     "data": {
      "text/html": [
       "<div>\n",
       "<style scoped>\n",
       "    .dataframe tbody tr th:only-of-type {\n",
       "        vertical-align: middle;\n",
       "    }\n",
       "\n",
       "    .dataframe tbody tr th {\n",
       "        vertical-align: top;\n",
       "    }\n",
       "\n",
       "    .dataframe thead th {\n",
       "        text-align: right;\n",
       "    }\n",
       "</style>\n",
       "<table border=\"1\" class=\"dataframe\">\n",
       "  <thead>\n",
       "    <tr style=\"text-align: right;\">\n",
       "      <th></th>\n",
       "      <th>code</th>\n",
       "      <th>open</th>\n",
       "      <th>close</th>\n",
       "      <th>high</th>\n",
       "      <th>low</th>\n",
       "    </tr>\n",
       "    <tr>\n",
       "      <th>time</th>\n",
       "      <th></th>\n",
       "      <th></th>\n",
       "      <th></th>\n",
       "      <th></th>\n",
       "      <th></th>\n",
       "    </tr>\n",
       "  </thead>\n",
       "  <tbody>\n",
       "    <tr>\n",
       "      <th>2020-12-25</th>\n",
       "      <td>689009.XSHG</td>\n",
       "      <td>72.01</td>\n",
       "      <td>75.10</td>\n",
       "      <td>75.50</td>\n",
       "      <td>67.61</td>\n",
       "    </tr>\n",
       "    <tr>\n",
       "      <th>2020-12-28</th>\n",
       "      <td>689009.XSHG</td>\n",
       "      <td>74.82</td>\n",
       "      <td>80.10</td>\n",
       "      <td>83.20</td>\n",
       "      <td>74.32</td>\n",
       "    </tr>\n",
       "    <tr>\n",
       "      <th>2020-12-29</th>\n",
       "      <td>689009.XSHG</td>\n",
       "      <td>81.38</td>\n",
       "      <td>77.46</td>\n",
       "      <td>83.80</td>\n",
       "      <td>76.55</td>\n",
       "    </tr>\n",
       "    <tr>\n",
       "      <th>2020-12-30</th>\n",
       "      <td>689009.XSHG</td>\n",
       "      <td>78.13</td>\n",
       "      <td>80.91</td>\n",
       "      <td>83.49</td>\n",
       "      <td>76.21</td>\n",
       "    </tr>\n",
       "    <tr>\n",
       "      <th>2020-12-31</th>\n",
       "      <td>689009.XSHG</td>\n",
       "      <td>82.00</td>\n",
       "      <td>85.82</td>\n",
       "      <td>88.00</td>\n",
       "      <td>80.09</td>\n",
       "    </tr>\n",
       "  </tbody>\n",
       "</table>\n",
       "</div>"
      ],
      "text/plain": [
       "                   code   open  close   high    low\n",
       "time                                               \n",
       "2020-12-25  689009.XSHG  72.01  75.10  75.50  67.61\n",
       "2020-12-28  689009.XSHG  74.82  80.10  83.20  74.32\n",
       "2020-12-29  689009.XSHG  81.38  77.46  83.80  76.55\n",
       "2020-12-30  689009.XSHG  78.13  80.91  83.49  76.21\n",
       "2020-12-31  689009.XSHG  82.00  85.82  88.00  80.09"
      ]
     },
     "execution_count": 5,
     "metadata": {},
     "output_type": "execute_result"
    }
   ],
   "source": [
    "pr = pd.read_csv('../price_2005_2020.csv', index_col='time', parse_dates=['time'])\n",
    "pr.tail()"
   ]
  },
  {
   "cell_type": "code",
   "execution_count": 6,
   "metadata": {},
   "outputs": [
    {
     "data": {
      "text/html": [
       "<div>\n",
       "<style scoped>\n",
       "    .dataframe tbody tr th:only-of-type {\n",
       "        vertical-align: middle;\n",
       "    }\n",
       "\n",
       "    .dataframe tbody tr th {\n",
       "        vertical-align: top;\n",
       "    }\n",
       "\n",
       "    .dataframe thead th {\n",
       "        text-align: right;\n",
       "    }\n",
       "</style>\n",
       "<table border=\"1\" class=\"dataframe\">\n",
       "  <thead>\n",
       "    <tr style=\"text-align: right;\">\n",
       "      <th></th>\n",
       "      <th>code</th>\n",
       "      <th>number</th>\n",
       "      <th>cash</th>\n",
       "    </tr>\n",
       "  </thead>\n",
       "  <tbody>\n",
       "    <tr>\n",
       "      <th>2005-03-18</th>\n",
       "      <td>600211.XSHG</td>\n",
       "      <td>100</td>\n",
       "      <td>None</td>\n",
       "    </tr>\n",
       "    <tr>\n",
       "      <th>2020-12-17</th>\n",
       "      <td>600211.XSHG</td>\n",
       "      <td>-100</td>\n",
       "      <td>None</td>\n",
       "    </tr>\n",
       "  </tbody>\n",
       "</table>\n",
       "</div>"
      ],
      "text/plain": [
       "                   code  number  cash\n",
       "2005-03-18  600211.XSHG     100  None\n",
       "2020-12-17  600211.XSHG    -100  None"
      ]
     },
     "execution_count": 6,
     "metadata": {},
     "output_type": "execute_result"
    }
   ],
   "source": [
    "#TODO pandas中如何根据两列进行定位？？？\n",
    "# u4，u2只有65535不够。这里因为有000001这样的代码，如果使用纯数字，就要对1进行数位补齐，或者对原始数据进行处理。\n",
    "code = np.array(['600211.XSHG']*2)\n",
    "# i4，正数买入，负数卖出\n",
    "number = [100, -100] \n",
    "# 暂时均按开盘价处理\n",
    "time = pd.DatetimeIndex(['2005-03-18', '2020-12-17'])\n",
    "df = pd.DataFrame({'code':code, 'number':number}, index=time)\n",
    "df['cash']=None\n",
    "df"
   ]
  },
  {
   "cell_type": "code",
   "execution_count": 7,
   "metadata": {},
   "outputs": [
    {
     "name": "stdout",
     "output_type": "stream",
     "text": [
      "CPU times: user 41.1 ms, sys: 0 ns, total: 41.1 ms\n",
      "Wall time: 42.8 ms\n"
     ]
    },
    {
     "data": {
      "text/plain": [
       "2.51"
      ]
     },
     "execution_count": 7,
     "metadata": {},
     "output_type": "execute_result"
    }
   ],
   "source": [
    "# %time a = pr.loc['2005-01-04'][pr.loc['2005-01-04']['code']=='600211.XSHG']['open'][0]\n",
    "# a"
   ]
  },
  {
   "cell_type": "code",
   "execution_count": 15,
   "metadata": {},
   "outputs": [
    {
     "name": "stdout",
     "output_type": "stream",
     "text": [
      "2.64\n",
      "62.95\n"
     ]
    },
    {
     "data": {
      "text/html": [
       "<div>\n",
       "<style scoped>\n",
       "    .dataframe tbody tr th:only-of-type {\n",
       "        vertical-align: middle;\n",
       "    }\n",
       "\n",
       "    .dataframe tbody tr th {\n",
       "        vertical-align: top;\n",
       "    }\n",
       "\n",
       "    .dataframe thead th {\n",
       "        text-align: right;\n",
       "    }\n",
       "</style>\n",
       "<table border=\"1\" class=\"dataframe\">\n",
       "  <thead>\n",
       "    <tr style=\"text-align: right;\">\n",
       "      <th></th>\n",
       "      <th>code</th>\n",
       "      <th>number</th>\n",
       "      <th>cash</th>\n",
       "    </tr>\n",
       "  </thead>\n",
       "  <tbody>\n",
       "    <tr>\n",
       "      <th>2005-03-18</th>\n",
       "      <td>600211.XSHG</td>\n",
       "      <td>100</td>\n",
       "      <td>-264</td>\n",
       "    </tr>\n",
       "    <tr>\n",
       "      <th>2020-12-17</th>\n",
       "      <td>600211.XSHG</td>\n",
       "      <td>-100</td>\n",
       "      <td>6295</td>\n",
       "    </tr>\n",
       "  </tbody>\n",
       "</table>\n",
       "</div>"
      ],
      "text/plain": [
       "                   code  number  cash\n",
       "2005-03-18  600211.XSHG     100  -264\n",
       "2020-12-17  600211.XSHG    -100  6295"
      ]
     },
     "execution_count": 15,
     "metadata": {},
     "output_type": "execute_result"
    }
   ],
   "source": [
    "# df.iat[0, 1] = 100\n",
    "# df.iat[1, 1] = -100\n",
    "# df.loc[[df.index[0]]] 选取第一行\n",
    "for i in range(2):\n",
    "    date = df.index[i]\n",
    "    code = df.iat[i, 0]\n",
    "    number = df.iat[i, 1]\n",
    "    cash = df.iat[i, 2]\n",
    "    date_lines = pr.loc[date]\n",
    "    code_line = date_lines[date_lines['code']==code]\n",
    "    _open = code_line['open'][0]\n",
    "    print(_open)\n",
    "    df.iat[i, 2] = -number * _open\n",
    "df"
   ]
  },
  {
   "cell_type": "code",
   "execution_count": 9,
   "metadata": {},
   "outputs": [
    {
     "data": {
      "text/html": [
       "<div>\n",
       "<style scoped>\n",
       "    .dataframe tbody tr th:only-of-type {\n",
       "        vertical-align: middle;\n",
       "    }\n",
       "\n",
       "    .dataframe tbody tr th {\n",
       "        vertical-align: top;\n",
       "    }\n",
       "\n",
       "    .dataframe thead th {\n",
       "        text-align: right;\n",
       "    }\n",
       "</style>\n",
       "<table border=\"1\" class=\"dataframe\">\n",
       "  <thead>\n",
       "    <tr style=\"text-align: right;\">\n",
       "      <th></th>\n",
       "      <th>code</th>\n",
       "      <th>open</th>\n",
       "      <th>close</th>\n",
       "      <th>high</th>\n",
       "      <th>low</th>\n",
       "    </tr>\n",
       "    <tr>\n",
       "      <th>time</th>\n",
       "      <th></th>\n",
       "      <th></th>\n",
       "      <th></th>\n",
       "      <th></th>\n",
       "      <th></th>\n",
       "    </tr>\n",
       "  </thead>\n",
       "  <tbody>\n",
       "    <tr>\n",
       "      <th>2020-12-17</th>\n",
       "      <td>000001.XSHE</td>\n",
       "      <td>18.91</td>\n",
       "      <td>18.95</td>\n",
       "      <td>19.07</td>\n",
       "      <td>18.60</td>\n",
       "    </tr>\n",
       "    <tr>\n",
       "      <th>2020-12-17</th>\n",
       "      <td>000002.XSHE</td>\n",
       "      <td>28.61</td>\n",
       "      <td>28.84</td>\n",
       "      <td>28.93</td>\n",
       "      <td>28.30</td>\n",
       "    </tr>\n",
       "    <tr>\n",
       "      <th>2020-12-17</th>\n",
       "      <td>000004.XSHE</td>\n",
       "      <td>23.17</td>\n",
       "      <td>23.18</td>\n",
       "      <td>23.42</td>\n",
       "      <td>22.67</td>\n",
       "    </tr>\n",
       "    <tr>\n",
       "      <th>2020-12-17</th>\n",
       "      <td>000005.XSHE</td>\n",
       "      <td>2.53</td>\n",
       "      <td>2.55</td>\n",
       "      <td>2.55</td>\n",
       "      <td>2.50</td>\n",
       "    </tr>\n",
       "    <tr>\n",
       "      <th>2020-12-17</th>\n",
       "      <td>000006.XSHE</td>\n",
       "      <td>5.49</td>\n",
       "      <td>5.52</td>\n",
       "      <td>5.52</td>\n",
       "      <td>5.36</td>\n",
       "    </tr>\n",
       "    <tr>\n",
       "      <th>...</th>\n",
       "      <td>...</td>\n",
       "      <td>...</td>\n",
       "      <td>...</td>\n",
       "      <td>...</td>\n",
       "      <td>...</td>\n",
       "    </tr>\n",
       "    <tr>\n",
       "      <th>2020-12-17</th>\n",
       "      <td>688608.XSHG</td>\n",
       "      <td>369.00</td>\n",
       "      <td>372.00</td>\n",
       "      <td>379.88</td>\n",
       "      <td>326.50</td>\n",
       "    </tr>\n",
       "    <tr>\n",
       "      <th>2020-12-17</th>\n",
       "      <td>688777.XSHG</td>\n",
       "      <td>98.00</td>\n",
       "      <td>98.92</td>\n",
       "      <td>102.01</td>\n",
       "      <td>97.50</td>\n",
       "    </tr>\n",
       "    <tr>\n",
       "      <th>2020-12-17</th>\n",
       "      <td>688788.XSHG</td>\n",
       "      <td>193.73</td>\n",
       "      <td>191.85</td>\n",
       "      <td>195.50</td>\n",
       "      <td>186.86</td>\n",
       "    </tr>\n",
       "    <tr>\n",
       "      <th>2020-12-17</th>\n",
       "      <td>688981.XSHG</td>\n",
       "      <td>54.21</td>\n",
       "      <td>56.01</td>\n",
       "      <td>56.57</td>\n",
       "      <td>54.00</td>\n",
       "    </tr>\n",
       "    <tr>\n",
       "      <th>2020-12-17</th>\n",
       "      <td>689009.XSHG</td>\n",
       "      <td>69.00</td>\n",
       "      <td>73.69</td>\n",
       "      <td>73.69</td>\n",
       "      <td>68.40</td>\n",
       "    </tr>\n",
       "  </tbody>\n",
       "</table>\n",
       "<p>4111 rows × 5 columns</p>\n",
       "</div>"
      ],
      "text/plain": [
       "                   code    open   close    high     low\n",
       "time                                                   \n",
       "2020-12-17  000001.XSHE   18.91   18.95   19.07   18.60\n",
       "2020-12-17  000002.XSHE   28.61   28.84   28.93   28.30\n",
       "2020-12-17  000004.XSHE   23.17   23.18   23.42   22.67\n",
       "2020-12-17  000005.XSHE    2.53    2.55    2.55    2.50\n",
       "2020-12-17  000006.XSHE    5.49    5.52    5.52    5.36\n",
       "...                 ...     ...     ...     ...     ...\n",
       "2020-12-17  688608.XSHG  369.00  372.00  379.88  326.50\n",
       "2020-12-17  688777.XSHG   98.00   98.92  102.01   97.50\n",
       "2020-12-17  688788.XSHG  193.73  191.85  195.50  186.86\n",
       "2020-12-17  688981.XSHG   54.21   56.01   56.57   54.00\n",
       "2020-12-17  689009.XSHG   69.00   73.69   73.69   68.40\n",
       "\n",
       "[4111 rows x 5 columns]"
      ]
     },
     "execution_count": 9,
     "metadata": {},
     "output_type": "execute_result"
    }
   ],
   "source": [
    "pr.loc[df.index[1]]"
   ]
  }
 ],
 "metadata": {
  "kernelspec": {
   "display_name": "Python 3",
   "language": "python",
   "name": "python3"
  },
  "language_info": {
   "codemirror_mode": {
    "name": "ipython",
    "version": 3
   },
   "file_extension": ".py",
   "mimetype": "text/x-python",
   "name": "python",
   "nbconvert_exporter": "python",
   "pygments_lexer": "ipython3",
   "version": "3.8.5"
  },
  "toc-autonumbering": true,
  "toc-showcode": true,
  "toc-showmarkdowntxt": true,
  "toc-showtags": false
 },
 "nbformat": 4,
 "nbformat_minor": 4
}
