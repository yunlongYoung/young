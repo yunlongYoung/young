{
 "cells": [
  {
   "cell_type": "code",
   "execution_count": null,
   "metadata": {},
   "outputs": [],
   "source": [
    "# default_exp strategy"
   ]
  },
  {
   "cell_type": "markdown",
   "metadata": {},
   "source": [
    "# module name here\n",
    "\n",
    "> API details."
   ]
  },
  {
   "cell_type": "code",
   "execution_count": null,
   "metadata": {},
   "outputs": [],
   "source": [
    "#hide\n",
    "from nbdev.showdoc import *"
   ]
  },
  {
   "cell_type": "code",
   "execution_count": null,
   "metadata": {},
   "outputs": [],
   "source": [
    "#export\n",
    "import modin.pandas as pd"
   ]
  },
  {
   "cell_type": "markdown",
   "metadata": {},
   "source": [
    "数据集为df，主要是验证策略的收益，以及绘图、统计\n",
    "\n",
    "所谓策略，包括股票买卖部分，选股、股数、买入时机（包括集合竞价买入、盘中随意买入、快收盘时买入）、卖出时机（紧急卖出时机）\n",
    "\n",
    "         股数策略为到达8股前，一只股只买一手，到达8股后，轮流分配。或者买市值倒数第5的开始\n",
    "         \n",
    "所谓收益，是指定开始日期和结束日期后，按照选择的策略，经过股票的买入和轮换，到达结束日期时卖出的收益。\n",
    "\n",
    "就使用最简单的曲线图即可，将来有条件再添加沪深300的benchmark\n",
    "\n",
    "统计，暂时只统计收益率和年化收益率即可\n",
    "\n",
    "最主要是实现多个维度的策略同时运行，以及策略的范围验证比较\n",
    "\n",
    "从策略可以看出，一个策略可能包含1到多只股票的买入卖出，其中每只股票的参数是相对独立的。\n",
    "\n",
    "每只股票都可能包括买入时间、代码、数量、卖出时间。\n",
    "\n",
    "这3个维度是一个数据。\n",
    "\n",
    "而策略是一个数组，其中每一项都是一个四元的数组（即元策略或单股票策略）\n",
    "\n",
    "其中每一项的时间和数量都可能在迭代中变化，也就是要有实现范围验证的基础  \n",
    "\n",
    "因为策略的数据结构和df是一样的，那么只需要使用pd的dataframe来作为数据结构，再增加一些独特的方法就行了。\n",
    "\n",
    "或者把买入和卖出分为两个df，则每一个df都是时间index，股票代码、数量、买入或卖出"
   ]
  },
  {
   "cell_type": "code",
   "execution_count": 31,
   "metadata": {},
   "outputs": [],
   "source": [
    "#export\n",
    "class Strategy:\n",
    "    def __init__(df=None, beg=None, end=None, code=None, number=None):\n",
    "        if df:\n",
    "            self.df=df\n",
    "            self.beg=df['beg']\n",
    "            self.end=df['end']\n",
    "            self.code=df['code']\n",
    "            self.number=df['number']\n",
    "        else:\n",
    "            self.beg=pd.Series(beg, name='beg')\n",
    "            self.end=pd.Series(end, name='end')     \n",
    "            self.code=pd.Series(code, name='code')\n",
    "            self.number=pd.Series(number, name='number') \n",
    "            self.df = pd.concat([self.beg, self.end, self.code, ])\n",
    "    \n",
    "    def beg(self):\n",
    "        pass"
   ]
  }
 ],
 "metadata": {
  "kernelspec": {
   "display_name": "Python 3",
   "language": "python",
   "name": "python3"
  },
  "language_info": {
   "codemirror_mode": {
    "name": "ipython",
    "version": 3
   },
   "file_extension": ".py",
   "mimetype": "text/x-python",
   "name": "python",
   "nbconvert_exporter": "python",
   "pygments_lexer": "ipython3",
   "version": "3.8.5"
  }
 },
 "nbformat": 4,
 "nbformat_minor": 4
}
