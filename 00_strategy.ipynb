{
 "cells": [
  {
   "cell_type": "code",
   "execution_count": 2,
   "metadata": {},
   "outputs": [],
   "source": [
    "# default_exp strategy"
   ]
  },
  {
   "cell_type": "markdown",
   "metadata": {
    "tags": []
   },
   "source": [
    "# strategy\n",
    "\n",
    "> A backtesting strategy."
   ]
  },
  {
   "cell_type": "code",
   "execution_count": 3,
   "metadata": {},
   "outputs": [],
   "source": [
    "#hide\n",
    "from nbdev.showdoc import *"
   ]
  },
  {
   "cell_type": "code",
   "execution_count": 4,
   "metadata": {},
   "outputs": [],
   "source": [
    "#export\n",
    "# import modin.pandas as pd\n",
    "import pandas as pd"
   ]
  },
  {
   "cell_type": "raw",
   "metadata": {
    "tags": []
   },
   "source": [
    "数据集为df，主要是验证策略的收益，以及绘图、统计\n",
    "所谓策略，包括股票买卖部分，选股、股数、买入时机（包括集合竞价买卖、盘中随意买卖、快收盘时买卖、紧急买卖）\n",
    "         股数策略为到达8股前，一只股只买一手，到达8股后，轮流分配。或者买市值倒数第5的开始         \n",
    "所谓收益，是指定开始日期和结束日期后，按照选择的策略，经过股票的买入和轮换，到达结束日期时卖出的收益。\n",
    "就使用最简单的曲线图即可，将来有条件再添加沪深300的benchmark\n",
    "统计，暂时只统计收益率和年化收益率即可\n",
    "最主要是实现多个维度的策略同时运行，以及策略的范围验证比较 \n",
    "从策略可以看出，一个策略可能包含1到多只股票的买入卖出，其中每只股票的参数是相对独立的。\n",
    "每只股票都可能包括买入时间、代码、数量、卖出时间。\n",
    "这3个维度是一个数据。\n",
    "\n",
    "而策略是一个数组，其中每一项都是一个四元的数组（即元策略或单股票策略）\n",
    "其中每一项的时间和数量都可能在迭代中变化，也就是要有实现范围验证的基础  \n",
    "因为策略的数据结构和df是一样的，那么只需要使用pd的dataframe来作为数据结构，再增加一些独特的方法就行了。\n",
    "或者把买入和卖出分为两个df，则每一个df都是时间index，股票代码、数量、买入或卖出\n",
    "\n",
    "绝对数据结构的主要是两点，性能和扩展性\n",
    "那么从性能和扩展性来看，都是把买卖分开比较好，因为可能买入的时候还不知道什么时候卖出\n",
    "而且希望数据是动态结构的，比如当前context的日期是2005-01-12-09:30，那么此时在数据结构中增加一行2005-01-12-10:30买入的数据，那么会自动执行此策略。\n",
    "(如果这么做可能开销比较大，而且暂时自己下载的数据也不支持，暂时只支持开盘和收盘买卖即可)\n",
    "股票的买入卖出就只是对当前context日期之后的数据结构进行增减即可。\n",
    "\n",
    "当前context的状态，可能包括现金、每种股票的股数、当前日期和时间等（目前只考虑日期）。\n",
    "\n",
    "\n",
    "现在只需要根据一只股票一手一买一卖的数据算出收益和年化收益率（还是从05年3月到20年12月）。"
   ]
  },
  {
   "cell_type": "code",
   "execution_count": 5,
   "metadata": {
    "tags": []
   },
   "outputs": [],
   "source": [
    "#export\n",
    "class Strategy:\n",
    "    def __init__(self, dataframe, price_fund):\n",
    "            self.df=dataframe\n",
    "            self.pf=price_fund # 包含价格和财务数据等的dataframe\n",
    "\n",
    "    def settle(self, print_df=True):\n",
    "        self.df['cash']=None\n",
    "        for i in range(len(self.df.index)):\n",
    "            date = self.df.index[i]\n",
    "            code = self.df.iat[i, 0]\n",
    "            number = self.df.iat[i, 1] # 股数\n",
    "            date_df = self.pf.loc[date] # 根据日期先筛选\n",
    "            code_line = date_df[date_df['code']==code] # 再根据股票代码筛选出目标行\n",
    "            _open = code_line['open'][0] # 获得开盘价\n",
    "            self.df.iat[i, 2] = -number * _open # 根据买卖，计算现金的变化\n",
    "        if print_df:\n",
    "            print(df)\n",
    "        return df['cash'].sum()"
   ]
  },
  {
   "cell_type": "code",
   "execution_count": 7,
   "metadata": {},
   "outputs": [],
   "source": [
    "#TODO pandas中如何根据两列进行定位？？？\n",
    "# u4，u2只有65535不够。这里因为有000001这样的代码，如果使用纯数字，就要对1进行数位补齐，或者对原始数据进行处理。\n",
    "code = ['600211.XSHG']*2\n",
    "# i4，正数买入，负数卖出\n",
    "number = [100, -100] \n",
    "# 暂时均按开盘价处理\n",
    "time = pd.DatetimeIndex(['2005-03-18', '2020-12-17'])\n",
    "df = pd.DataFrame({'code':code, 'number':number}, index=time)"
   ]
  },
  {
   "cell_type": "code",
   "execution_count": 9,
   "metadata": {},
   "outputs": [
    {
     "name": "stdout",
     "output_type": "stream",
     "text": [
      "                   code    open\n",
      "time                           \n",
      "2005-01-05  000001.XSHE    1.47\n",
      "2005-01-05  000002.XSHE    0.98\n",
      "2005-01-05  000004.XSHE    5.08\n",
      "2005-01-05  000005.XSHE    1.27\n",
      "2005-01-05  000006.XSHE    0.49\n",
      "...                 ...     ...\n",
      "2021-02-10  688777.XSHG   84.00\n",
      "2021-02-10  688788.XSHG  123.50\n",
      "2021-02-10  688819.XSHG   46.39\n",
      "2021-02-10  688981.XSHG   53.71\n",
      "2021-02-10  689009.XSHG   93.92\n",
      "\n",
      "[9569002 rows x 2 columns]\n",
      "                   code  number  cash\n",
      "2005-03-18  600211.XSHG     100  -264\n",
      "2020-12-17  600211.XSHG    -100  6295\n"
     ]
    },
    {
     "data": {
      "text/plain": [
       "6031.0"
      ]
     },
     "execution_count": 9,
     "metadata": {},
     "output_type": "execute_result"
    }
   ],
   "source": [
    "pf = pd.read_csv('../price_fund_20210210.csv', index_col='time', parse_dates=['time'])[['code', 'open']]\n",
    "print(pf)\n",
    "s = Strategy(df, pf)\n",
    "s.settle()"
   ]
  }
 ],
 "metadata": {
  "kernelspec": {
   "display_name": "Python 3",
   "language": "python",
   "name": "python3"
  },
  "language_info": {
   "codemirror_mode": {
    "name": "ipython",
    "version": 3
   },
   "file_extension": ".py",
   "mimetype": "text/x-python",
   "name": "python",
   "nbconvert_exporter": "python",
   "pygments_lexer": "ipython3",
   "version": "3.8.5"
  },
  "toc-autonumbering": true,
  "toc-showcode": true,
  "toc-showmarkdowntxt": true,
  "toc-showtags": false
 },
 "nbformat": 4,
 "nbformat_minor": 4
}
