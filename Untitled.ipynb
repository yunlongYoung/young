{
 "cells": [
  {
   "cell_type": "code",
   "execution_count": 12,
   "id": "postal-pathology",
   "metadata": {
    "execution": {
     "iopub.execute_input": "2021-02-23T09:31:08.243455Z",
     "iopub.status.busy": "2021-02-23T09:31:08.242681Z",
     "iopub.status.idle": "2021-02-23T09:31:09.310562Z",
     "shell.execute_reply": "2021-02-23T09:31:09.309626Z",
     "shell.execute_reply.started": "2021-02-23T09:31:08.243377Z"
    },
    "tags": []
   },
   "outputs": [
    {
     "data": {
      "text/html": [
       "<div>\n",
       "<style scoped>\n",
       "    .dataframe tbody tr th:only-of-type {\n",
       "        vertical-align: middle;\n",
       "    }\n",
       "\n",
       "    .dataframe tbody tr th {\n",
       "        vertical-align: top;\n",
       "    }\n",
       "\n",
       "    .dataframe thead th {\n",
       "        text-align: right;\n",
       "    }\n",
       "</style>\n",
       "<table border=\"1\" class=\"dataframe\">\n",
       "  <thead>\n",
       "    <tr style=\"text-align: right;\">\n",
       "      <th></th>\n",
       "      <th>open</th>\n",
       "      <th>close</th>\n",
       "    </tr>\n",
       "    <tr>\n",
       "      <th>time</th>\n",
       "      <th></th>\n",
       "      <th></th>\n",
       "    </tr>\n",
       "  </thead>\n",
       "  <tbody>\n",
       "    <tr>\n",
       "      <th>2005-01-04 09:31:00</th>\n",
       "      <td>2.51</td>\n",
       "      <td>2.51</td>\n",
       "    </tr>\n",
       "    <tr>\n",
       "      <th>2005-01-04 09:32:00</th>\n",
       "      <td>2.51</td>\n",
       "      <td>2.51</td>\n",
       "    </tr>\n",
       "    <tr>\n",
       "      <th>2005-01-04 09:33:00</th>\n",
       "      <td>2.51</td>\n",
       "      <td>2.51</td>\n",
       "    </tr>\n",
       "    <tr>\n",
       "      <th>2005-01-04 09:34:00</th>\n",
       "      <td>2.51</td>\n",
       "      <td>2.51</td>\n",
       "    </tr>\n",
       "    <tr>\n",
       "      <th>2005-01-04 09:35:00</th>\n",
       "      <td>2.51</td>\n",
       "      <td>2.51</td>\n",
       "    </tr>\n",
       "    <tr>\n",
       "      <th>...</th>\n",
       "      <td>...</td>\n",
       "      <td>...</td>\n",
       "    </tr>\n",
       "    <tr>\n",
       "      <th>2021-02-22 14:56:00</th>\n",
       "      <td>54.83</td>\n",
       "      <td>54.81</td>\n",
       "    </tr>\n",
       "    <tr>\n",
       "      <th>2021-02-22 14:57:00</th>\n",
       "      <td>54.81</td>\n",
       "      <td>54.79</td>\n",
       "    </tr>\n",
       "    <tr>\n",
       "      <th>2021-02-22 14:58:00</th>\n",
       "      <td>54.79</td>\n",
       "      <td>54.79</td>\n",
       "    </tr>\n",
       "    <tr>\n",
       "      <th>2021-02-22 14:59:00</th>\n",
       "      <td>54.79</td>\n",
       "      <td>54.79</td>\n",
       "    </tr>\n",
       "    <tr>\n",
       "      <th>2021-02-22 15:00:00</th>\n",
       "      <td>54.79</td>\n",
       "      <td>54.78</td>\n",
       "    </tr>\n",
       "  </tbody>\n",
       "</table>\n",
       "<p>940800 rows × 2 columns</p>\n",
       "</div>"
      ],
      "text/plain": [
       "                      open  close\n",
       "time                             \n",
       "2005-01-04 09:31:00   2.51   2.51\n",
       "2005-01-04 09:32:00   2.51   2.51\n",
       "2005-01-04 09:33:00   2.51   2.51\n",
       "2005-01-04 09:34:00   2.51   2.51\n",
       "2005-01-04 09:35:00   2.51   2.51\n",
       "...                    ...    ...\n",
       "2021-02-22 14:56:00  54.83  54.81\n",
       "2021-02-22 14:57:00  54.81  54.79\n",
       "2021-02-22 14:58:00  54.79  54.79\n",
       "2021-02-22 14:59:00  54.79  54.79\n",
       "2021-02-22 15:00:00  54.79  54.78\n",
       "\n",
       "[940800 rows x 2 columns]"
      ]
     },
     "execution_count": 12,
     "metadata": {},
     "output_type": "execute_result"
    }
   ],
   "source": [
    "import pandas as pd\n",
    "df = pd.read_csv('600211.csv', index_col='time', parse_dates=['time'])[['open', 'close']]\n",
    "df"
   ]
  },
  {
   "cell_type": "raw",
   "id": "amino-johns",
   "metadata": {
    "execution": {
     "iopub.execute_input": "2021-02-23T09:07:13.365059Z",
     "iopub.status.busy": "2021-02-23T09:07:13.364312Z",
     "iopub.status.idle": "2021-02-23T09:07:13.382946Z",
     "shell.execute_reply": "2021-02-23T09:07:13.378726Z",
     "shell.execute_reply.started": "2021-02-23T09:07:13.364983Z"
    },
    "tags": []
   },
   "source": [
    "回归的平均时间，肯定是百分比越小，平均时间越短，\n",
    "百分越大，平均回归时间越长\n",
    "\n",
    "价格的波动，有可能是随机波动，也有可能是价值变化。\n",
    "随机波动没有规律，但有正态分布的区间。\n",
    "\n",
    "主要是判断在90%或者某个百分数的确信区间，执行卖出操作。"
   ]
  },
  {
   "cell_type": "code",
   "execution_count": null,
   "id": "governmental-berkeley",
   "metadata": {},
   "outputs": [],
   "source": []
  }
 ],
 "metadata": {
  "kernelspec": {
   "display_name": "Python 3",
   "language": "python",
   "name": "python3"
  },
  "language_info": {
   "codemirror_mode": {
    "name": "ipython",
    "version": 3
   },
   "file_extension": ".py",
   "mimetype": "text/x-python",
   "name": "python",
   "nbconvert_exporter": "python",
   "pygments_lexer": "ipython3",
   "version": "3.8.5"
  }
 },
 "nbformat": 4,
 "nbformat_minor": 5
}
