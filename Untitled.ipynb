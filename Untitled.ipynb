{
 "cells": [
  {
   "cell_type": "code",
   "execution_count": 2,
   "id": "single-harrison",
   "metadata": {
    "tags": []
   },
   "outputs": [
    {
     "data": {
      "text/plain": [
       "time\n",
       "2005-01-04 09:31:00     2.51\n",
       "2005-01-04 09:32:00     2.51\n",
       "2005-01-04 09:33:00     2.51\n",
       "2005-01-04 09:34:00     2.51\n",
       "2005-01-04 09:35:00     2.51\n",
       "                       ...  \n",
       "2021-02-22 14:56:00    54.83\n",
       "2021-02-22 14:57:00    54.81\n",
       "2021-02-22 14:58:00    54.79\n",
       "2021-02-22 14:59:00    54.79\n",
       "2021-02-22 15:00:00    54.79\n",
       "Name: open, Length: 940800, dtype: float64"
      ]
     },
     "execution_count": 2,
     "metadata": {},
     "output_type": "execute_result"
    }
   ],
   "source": [
    "import pandas as pd\n",
    "df = pd.read_csv('../600211.csv', index_col='time', parse_dates=['time'])['open']\n",
    "df"
   ]
  },
  {
   "cell_type": "raw",
   "id": "expensive-edgar",
   "metadata": {
    "execution": {
     "iopub.execute_input": "2021-02-23T09:07:13.365059Z",
     "iopub.status.busy": "2021-02-23T09:07:13.364312Z",
     "iopub.status.idle": "2021-02-23T09:07:13.382946Z",
     "shell.execute_reply": "2021-02-23T09:07:13.378726Z",
     "shell.execute_reply.started": "2021-02-23T09:07:13.364983Z"
    },
    "tags": []
   },
   "source": [
    "回归的平均时间，肯定是百分比越小，平均时间越短，\n",
    "百分越大，平均回归时间越长\n",
    "\n",
    "价格的波动，有可能是随机波动，也有可能是价值变化。\n",
    "随机波动没有规律，但有正态分布的区间。\n",
    "\n",
    "主要是判断在90%或者某个百分数的确信区间，执行卖出操作。\n",
    "\n",
    "比如第一个数据，\n",
    "第一步：需要比较后续的每个数据是否>=它自己，也就是回归了没有。\n",
    "第二步：在每个回归值之间寻找每个低于它的数据，并按照小数点2位精度的百分比进行统计，统计它的回归时间，也就是从低位到高位的时间。（其中就是关于连续和离散的问题，数据都是离散的，但该怎么计算呢）\n",
    "还有就是高点有可能是不断刷新的，那么最新的数据应该从高点开始计算。"
   ]
  },
  {
   "cell_type": "code",
   "execution_count": 13,
   "id": "contrary-ratio",
   "metadata": {},
   "outputs": [
    {
     "data": {
      "text/plain": [
       "trade_date\n",
       "1999-07-21    21.20\n",
       "1999-07-22    22.50\n",
       "1999-07-23    23.09\n",
       "1999-07-26    22.00\n",
       "1999-07-27    20.88\n",
       "              ...  \n",
       "2021-02-02    52.67\n",
       "2021-02-03    53.03\n",
       "2021-02-04    54.23\n",
       "2021-02-05    53.51\n",
       "2021-02-08    52.00\n",
       "Name: open, Length: 4988, dtype: float64"
      ]
     },
     "execution_count": 13,
     "metadata": {},
     "output_type": "execute_result"
    }
   ],
   "source": [
    "df = pd.read_csv('../量化数据/600211_daily.csv', index_col='trade_date', parse_dates=['trade_date'])['open']\n",
    "df=df.sort_index(ascending=True)\n",
    "df"
   ]
  },
  {
   "cell_type": "code",
   "execution_count": 14,
   "id": "concerned-cattle",
   "metadata": {},
   "outputs": [
    {
     "data": {
      "text/plain": [
       "<AxesSubplot:xlabel='trade_date'>"
      ]
     },
     "execution_count": 14,
     "metadata": {},
     "output_type": "execute_result"
    },
    {
     "data": {
      "image/png": "[encoded data removed]",
      "text/plain": [
       "<Figure size 432x288 with 1 Axes>"
      ]
     },
     "metadata": {
      "needs_background": "light"
     },
     "output_type": "display_data"
    }
   ],
   "source": [
    "from matplotlib import pyplot as plt\n",
    "df.plot()"
   ]
  }
 ],
 "metadata": {
  "kernelspec": {
   "display_name": "Python 3",
   "language": "python",
   "name": "python3"
  },
  "language_info": {
   "codemirror_mode": {
    "name": "ipython",
    "version": 3
   },
   "file_extension": ".py",
   "mimetype": "text/x-python",
   "name": "python",
   "nbconvert_exporter": "python",
   "pygments_lexer": "ipython3",
   "version": "3.9.0"
  }
 },
 "nbformat": 4,
 "nbformat_minor": 5
}
